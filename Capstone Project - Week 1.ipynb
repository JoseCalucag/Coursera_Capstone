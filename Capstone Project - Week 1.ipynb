{
 "cells": [
  {
   "cell_type": "markdown",
   "metadata": {},
   "source": [
    "# Battle of the Toronto Neighborhoods"
   ]
  },
  {
   "cell_type": "markdown",
   "metadata": {},
   "source": [
    "## Part 1 - Introduction/Business Problem"
   ]
  },
  {
   "cell_type": "markdown",
   "metadata": {},
   "source": [
    "### Introduction\n",
    "Wikipedia states that (as of 2016) Toronto is Canada’s most populous city and the fourth most in North America. It’s diverse, it’s multicultural, it’s a global hub of commerce and entertainment.. and its profile is always growing. To focalize upon Toronto’s restaurant industry, many have come and gone but there have been a rare and resilient few have come to Toronto and actually thrive in the market. \n",
    "\n",
    "Which is why any hopes of a restaurant business to remain afloat and be successful needs to be analyzed and planned carefully. Even before any notion of looking at a piece of real estate or buying your first piece of cutlery, it is important for stakeholders to be able find all data possible and leverage it to make a sound business decision. \n",
    "\n",
    "So, I hope that this project can illustrate how crucial data is in all it's stages from pre processing to it's final presentation. "
   ]
  },
  {
   "cell_type": "markdown",
   "metadata": {},
   "source": [
    "### Business Problem\n",
    "My client, a wealthy and successfull restauranteur is eager to expand his business operations and brand here in Toronto. They're hoping to create an authentic Mexican eating experience rich in culure and cuisine.\n",
    "\n",
    "Since the city of Toronto is a very competitive market, my client needs insightful data in order to decide if it's good to establish this restuarant in the city and in which neighborhood."
   ]
  },
  {
   "cell_type": "markdown",
   "metadata": {},
   "source": [
    "## Part 2 - Data"
   ]
  },
  {
   "cell_type": "markdown",
   "metadata": {},
   "source": [
    "###  A description of the data \n",
    "This project will utilize publicly open data from Wikipedia and Foursquare. "
   ]
  },
  {
   "cell_type": "markdown",
   "metadata": {},
   "source": [
    "With Wikipedia, I will use Toronto's geospatial neighborhood data, which is available here:\n",
    "(https://en.wikipedia.org/wiki/List_of_postal_codes_of_Canada:_M)\n",
    "\n",
    "With this dataset, I will get data that I can use to help create certain data frameworks and geological mapppings."
   ]
  },
  {
   "cell_type": "markdown",
   "metadata": {},
   "source": [
    "The Foursquare API will be used to obtain location and restaurant  data. The pulled data will provide categorical data that can give further analysis that will determine the selection of a location for the restaurant."
   ]
  },
  {
   "cell_type": "markdown",
   "metadata": {},
   "source": [
    "### How it will be used to solve the problem"
   ]
  },
  {
   "cell_type": "markdown",
   "metadata": {},
   "source": [
    "The data compiled from Wikipedia and Foursquare will be analyzed to consider the location in downtown Toronto. By creating a map of Toronto based upon restaurant data will give my client insights as to which neighborhoods have a pre-based food scene and which ones do not. Furthermore, we can also see the frequency analysis of Mexican food in these neighborhoods, which should also help my client make deicions to break ground for their restaurant."
   ]
  },
  {
   "cell_type": "code",
   "execution_count": null,
   "metadata": {},
   "outputs": [],
   "source": []
  }
 ],
 "metadata": {
  "kernelspec": {
   "display_name": "Python 3",
   "language": "python",
   "name": "python3"
  },
  "language_info": {
   "codemirror_mode": {
    "name": "ipython",
    "version": 3
   },
   "file_extension": ".py",
   "mimetype": "text/x-python",
   "name": "python",
   "nbconvert_exporter": "python",
   "pygments_lexer": "ipython3",
   "version": "3.7.6"
  }
 },
 "nbformat": 4,
 "nbformat_minor": 4
}
